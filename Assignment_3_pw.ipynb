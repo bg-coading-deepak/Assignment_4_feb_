{
 "cells": [
  {
   "cell_type": "markdown",
   "id": "5d267f1d",
   "metadata": {},
   "source": [
    "### Ques-No.1"
   ]
  },
  {
   "cell_type": "code",
   "execution_count": 34,
   "id": "467db49b",
   "metadata": {},
   "outputs": [
    {
     "name": "stdout",
     "output_type": "stream",
     "text": [
      "Before Sorting [('Sachin tendulkar', 34357), ('Picky Ponting', 27483), ('Jack Kallis', 25534), ('Virat Kohali', 24936)]\n"
     ]
    }
   ],
   "source": [
    "list1=[('Sachin tendulkar',34357),('Picky Ponting',27483),('Jack Kallis',25534),('Virat Kohali',24936)]\n",
    "print(\"Before Sorting\",list1)"
   ]
  },
  {
   "cell_type": "code",
   "execution_count": 37,
   "id": "60b14d1e",
   "metadata": {},
   "outputs": [
    {
     "name": "stdout",
     "output_type": "stream",
     "text": [
      "After the sorting by value [('Virat Kohali', 24936), ('Jack Kallis', 25534), ('Picky Ponting', 27483), ('Sachin tendulkar', 34357)]\n"
     ]
    }
   ],
   "source": [
    "list1.sort(key= lambda x:x[1])\n",
    "\n",
    "print(\"After the sorting by value\",list1)"
   ]
  },
  {
   "cell_type": "markdown",
   "id": "d4840d95",
   "metadata": {},
   "source": [
    "### Ques-No. 2"
   ]
  },
  {
   "cell_type": "code",
   "execution_count": 39,
   "id": "bb6a4ed8",
   "metadata": {},
   "outputs": [
    {
     "data": {
      "text/plain": [
       "[1, 4, 9, 16, 25, 36, 49, 64, 81, 100]"
      ]
     },
     "execution_count": 39,
     "metadata": {},
     "output_type": "execute_result"
    }
   ],
   "source": [
    "l=[1,2,3,4,5,6,7,8,9,10]\n",
    "list(map(lambda x:x**2 ,l))"
   ]
  },
  {
   "cell_type": "markdown",
   "id": "e844775b",
   "metadata": {},
   "source": [
    "### Ques-No.3"
   ]
  },
  {
   "cell_type": "code",
   "execution_count": 72,
   "id": "780e7693",
   "metadata": {},
   "outputs": [
    {
     "data": {
      "text/plain": [
       "('1', '2', '3', '4', '5', '6', '7', '8', '9', '10')"
      ]
     },
     "execution_count": 72,
     "metadata": {},
     "output_type": "execute_result"
    }
   ],
   "source": [
    "li=[1,2,3,4,5,6,7,8,9,10]\n",
    "tuple(map(lambda x:str(x),li))"
   ]
  },
  {
   "cell_type": "markdown",
   "id": "f89012cf",
   "metadata": {},
   "source": [
    "### Ques-N0.4"
   ]
  },
  {
   "cell_type": "code",
   "execution_count": 80,
   "id": "adaba817",
   "metadata": {},
   "outputs": [],
   "source": [
    "from functools import reduce"
   ]
  },
  {
   "cell_type": "code",
   "execution_count": 82,
   "id": "628408db",
   "metadata": {},
   "outputs": [
    {
     "data": {
      "text/plain": [
       "15511210043330985984000000"
      ]
     },
     "execution_count": 82,
     "metadata": {},
     "output_type": "execute_result"
    }
   ],
   "source": [
    "l1=[1,2,3,4,5,6,7,8,9,10,11,12,13,14,15,16,17,18,19,20,21,22,23,24,25]\n",
    "reduce(lambda x,y:x*y,l1 )"
   ]
  },
  {
   "cell_type": "markdown",
   "id": "a5a6e425",
   "metadata": {},
   "source": [
    "### Ques-No.5"
   ]
  },
  {
   "cell_type": "code",
   "execution_count": 99,
   "id": "efd17a2a",
   "metadata": {},
   "outputs": [
    {
     "data": {
      "text/plain": [
       "[6, 60, 90, 120]"
      ]
     },
     "execution_count": 99,
     "metadata": {},
     "output_type": "execute_result"
    }
   ],
   "source": [
    "l=[2,3,6,9,27,60,90,120,55,46]\n",
    "list(filter(lambda x: x%2==0 and x%3==0 , l))"
   ]
  },
  {
   "cell_type": "markdown",
   "id": "ebf2eb25",
   "metadata": {},
   "source": [
    "### Ques-No.6"
   ]
  },
  {
   "cell_type": "code",
   "execution_count": 106,
   "id": "0d2c4f34",
   "metadata": {},
   "outputs": [
    {
     "data": {
      "text/plain": [
       "['php', 'aba', 'radar', 'level']"
      ]
     },
     "execution_count": 106,
     "metadata": {},
     "output_type": "execute_result"
    }
   ],
   "source": [
    "li=['pyhton','php','aba','radar','level']\n",
    "\n",
    "list(filter(lambda x: (x == \"\".join(reversed(x))), li))"
   ]
  }
 ],
 "metadata": {
  "kernelspec": {
   "display_name": "Python 3 (ipykernel)",
   "language": "python",
   "name": "python3"
  },
  "language_info": {
   "codemirror_mode": {
    "name": "ipython",
    "version": 3
   },
   "file_extension": ".py",
   "mimetype": "text/x-python",
   "name": "python",
   "nbconvert_exporter": "python",
   "pygments_lexer": "ipython3",
   "version": "3.9.12"
  }
 },
 "nbformat": 4,
 "nbformat_minor": 5
}
